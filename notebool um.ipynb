{
 "cells": [
  {
   "cell_type": "code",
   "execution_count": 1,
   "metadata": {},
   "outputs": [
    {
     "name": "stdout",
     "output_type": "stream",
     "text": [
      "0.4913294797687861\n"
     ]
    }
   ],
   "source": [
    "import pandas as pd\n",
    "import numpy as np\n",
    "from sklearn.model_selection import train_test_split\n",
    "from sklearn.svm import SVC\n",
    "from sklearn.metrics import accuracy_score\n",
    "\n",
    "col_names = ['class', 'alcohol', 'ma', 'ash', 'aoa', 'mg',\n",
    "             'tp', 'fl', 'np', 'pr', 'color', 'hue', 'od', 'proline']\n",
    "dataset = pd.read_csv('./datasets/wine/wine.data', names=col_names)\n",
    "\n",
    "\n",
    "\n",
    "y = dataset['class']  # Klasy\n",
    "x = dataset[col_names[1:]]  # Pozostałe cechy\n",
    "\n",
    "xTrain, xTest, yTrain, yTest = train_test_split(\n",
    "    x, y, test_size=0.97)\n",
    "\n",
    "clf = SVC(kernel='linear', gamma='auto', probability=True, C=10000.0)\n",
    "clf.fit(xTrain, yTrain)\n",
    "\n",
    "# To co nas interesuje do Active Learing to wsparcia wygenerowane przez klasyfikator\n",
    "# Dokumentacja https://scikit-learn.org/stable/modules/svm.html\n",
    "\n",
    "# Ocena jakości\n",
    "\n",
    "predictions = clf.predict(xTest)\n",
    "score = accuracy_score(yTest, predictions)\n",
    "\n",
    "print(score)\n",
    "\n",
    "# xTest = np.array([[0, 0, 0, 0, 0, 0, 0, 0, 0, 0, 0, 0, 0]])\n",
    "\n",
    "\n",
    "# 3. Margin selection — we select ‘k’ samples with the lowest difference between the two highest class probabilities, i.e., a higher figure will be given for samples whose model was very certain about a single class and lower to samples whose class probabilities are very similar.\n",
    "\n",
    "# In principle, active learning can be performed with any classification algorithm that is capable of providing uncer- tainty estimates with class predictions for new samples.\n"
   ]
  },
  {
   "cell_type": "code",
   "execution_count": 2,
   "metadata": {},
   "outputs": [],
   "source": [
    "df = pd.DataFrame(clf.predict_proba(xTest))\n",
    "df.index = xTest.index"
   ]
  },
  {
   "cell_type": "code",
   "execution_count": 3,
   "metadata": {},
   "outputs": [],
   "source": [
    "df['max_value'] = df.max(axis=1)"
   ]
  },
  {
   "cell_type": "code",
   "execution_count": 4,
   "metadata": {},
   "outputs": [],
   "source": [
    "sorted_df = df.sort_values(by='max_value')"
   ]
  },
  {
   "cell_type": "code",
   "execution_count": 5,
   "metadata": {},
   "outputs": [],
   "source": [
    "indexes = sorted_df[:30].index.values"
   ]
  },
  {
   "cell_type": "code",
   "execution_count": 6,
   "metadata": {},
   "outputs": [],
   "source": [
    "yTrain_AL = pd.DataFrame(yTest).loc[indexes]"
   ]
  },
  {
   "cell_type": "code",
   "execution_count": 7,
   "metadata": {},
   "outputs": [],
   "source": [
    "xTrain_AL = pd.DataFrame(xTest).loc[indexes]"
   ]
  },
  {
   "cell_type": "code",
   "execution_count": 8,
   "metadata": {},
   "outputs": [],
   "source": [
    "xTest = xTest.drop(indexes)\n",
    "yTest = yTest.drop(indexes)"
   ]
  },
  {
   "cell_type": "code",
   "execution_count": 9,
   "metadata": {},
   "outputs": [],
   "source": [
    "xTrain = pd.concat([xTrain, xTrain_AL])"
   ]
  },
  {
   "cell_type": "code",
   "execution_count": 10,
   "metadata": {},
   "outputs": [],
   "source": [
    "yTrain = np.concatenate([yTrain, yTrain_AL['class']])"
   ]
  },
  {
   "cell_type": "code",
   "execution_count": 11,
   "metadata": {},
   "outputs": [
    {
     "data": {
      "text/plain": [
       "SVC(C=10000.0, cache_size=200, class_weight=None, coef0=0.0,\n",
       "  decision_function_shape='ovr', degree=3, gamma='auto', kernel='linear',\n",
       "  max_iter=-1, probability=True, random_state=None, shrinking=True,\n",
       "  tol=0.001, verbose=False)"
      ]
     },
     "execution_count": 11,
     "metadata": {},
     "output_type": "execute_result"
    }
   ],
   "source": [
    "clf.fit(xTrain, yTrain)"
   ]
  },
  {
   "cell_type": "code",
   "execution_count": 12,
   "metadata": {},
   "outputs": [
    {
     "name": "stdout",
     "output_type": "stream",
     "text": [
      "0.8881118881118881\n"
     ]
    }
   ],
   "source": [
    "predictions = clf.predict(xTest)\n",
    "score = accuracy_score(yTest, predictions)\n",
    "\n",
    "print(score)"
   ]
  },
  {
   "cell_type": "code",
   "execution_count": null,
   "metadata": {},
   "outputs": [],
   "source": []
  }
 ],
 "metadata": {
  "kernelspec": {
   "display_name": "Python 3",
   "language": "python",
   "name": "python3"
  },
  "language_info": {
   "codemirror_mode": {
    "name": "ipython",
    "version": 3
   },
   "file_extension": ".py",
   "mimetype": "text/x-python",
   "name": "python",
   "nbconvert_exporter": "python",
   "pygments_lexer": "ipython3",
   "version": "3.7.1"
  }
 },
 "nbformat": 4,
 "nbformat_minor": 2
}
